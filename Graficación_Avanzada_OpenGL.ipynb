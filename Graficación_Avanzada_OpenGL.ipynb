{
  "nbformat": 4,
  "nbformat_minor": 0,
  "metadata": {
    "colab": {
      "name": "Graficación Avanzada - OpenGL.ipynb",
      "version": "0.3.2",
      "provenance": [],
      "include_colab_link": true
    },
    "kernelspec": {
      "name": "python3",
      "display_name": "Python 3"
    }
  },
  "cells": [
    {
      "cell_type": "markdown",
      "metadata": {
        "id": "view-in-github",
        "colab_type": "text"
      },
      "source": [
        "[View in Colaboratory](https://colab.research.google.com/github/repepinoptero/GraficacionAvanzada/blob/master/Graficaci%C3%B3n_Avanzada_OpenGL.ipynb)"
      ]
    },
    {
      "metadata": {
        "id": "4cEXYFn1tWE3",
        "colab_type": "text"
      },
      "cell_type": "markdown",
      "source": [
        "# OpenGL\n",
        "\n",
        "Se necesita un nivel de abstracción entre la tarjeta gráfica y el programador.\n",
        "Lo ideal es que fuera independiente de la plataforma utilizada. Que aunque cambiaran las capacidades del hardware, las instrucciones fueran las mismas.\n",
        "\n",
        "## Historia\n",
        "\n",
        "- Fue presentado en SiliconGraphics en 1992\n",
        "- Es mantenido por Khronos\n",
        "- Precursor de DirectX, WebGL, Java3D\n"
      ]
    },
    {
      "metadata": {
        "id": "YI2hDr_JwBVj",
        "colab_type": "text"
      },
      "cell_type": "markdown",
      "source": [
        "Código para dibujar una ventana\n",
        "```\n",
        "#include <stdio.h>\n",
        "#include <stdlib.h>\n",
        "\n",
        "```\n",
        "La biblioteca **GLEW** (OpenGL Extension Wrangler Library) contiene métodos para verificar qué extensiones son aceptadas en determinada plataforma.  \n",
        "\n",
        "Lo primero que se debe hacer es crear un contexto de *rendering* válido y llamar a ***glewInit()*** para inicializar el punto de entrada. Si ***glewInit()*** regresa ***GLEW_OK***, significa que la inicialización funcionó y se pueden utilizar las extensiones disponibles y la funcionalidad de *OpenGL*.\n",
        "\n",
        "\n",
        "```\n",
        "#include <GL/glew.h>\n",
        "```\n",
        "\n",
        "La biblioteca **GLFW**  es una biblioteca de funciones *Open Source* multiplataforma para aplicaciones de escritorio. Contiene una API simple para crear ventanas, contextos y superficies, recibiendo parámetros y eventos.\n",
        "\n",
        "```\n",
        "#include <GLFW/glfw3.h>\n",
        "```\n",
        "\n",
        "La biblioteca **GLM**  (OpenGL Mathematics) es una biblioteca para matemáticas para software gráfico basado en la especificación **GLSL** (OpenGL Shading Language) \n",
        "\n",
        "**GLM** proporciona clases y funciones diseñadas e implementadas con las mismas convenciones y funcionalidades que **GLSL**.\n",
        "\n",
        "```c\n",
        "#include <glm/glm.hpp>\n",
        "using namespace glm;\n",
        "```\n",
        "\n",
        "Crearemos un apuntador a una ventana de manera global para poder accesarlo de manera conveniente.\n",
        "\n",
        "```\n",
        "GLFWwindow* window;\n",
        "\n",
        "int main( void )\n",
        "{\n",
        "\n",
        "```\n",
        "Primero inicializamos GLFW. En caso de que no se pueda, es inutil continuar. Regresamos código de error y terminamos.\n",
        "\n",
        "```\n",
        "\n",
        "\tif( !glfwInit() )\n",
        "\t{\n",
        "\t\tfprintf( stderr, \"Error al inicializar GLFW\\n\" );\n",
        "\t\tgetchar();\n",
        "\t\treturn -1;\n",
        "\t}\n",
        "```\n",
        "\n",
        "```\n",
        "\tglfwWindowHint(GLFW_SAMPLES, 4);\n",
        "\tglfwWindowHint(GLFW_CONTEXT_VERSION_MAJOR, 3);\n",
        "\tglfwWindowHint(GLFW_CONTEXT_VERSION_MINOR, 3);\n",
        "\tglfwWindowHint(GLFW_OPENGL_FORWARD_COMPAT, GL_TRUE); // To make MacOS happy; should not be needed\n",
        "\tglfwWindowHint(GLFW_OPENGL_PROFILE, GLFW_OPENGL_CORE_PROFILE);\n",
        "\n",
        "\t// Open a window and create its OpenGL context\n",
        "\twindow = glfwCreateWindow( 1024, 768, \"Tutorial 01\", NULL, NULL);\n",
        "\tif( window == NULL ){\n",
        "\t\tfprintf( stderr, \"Failed to open GLFW window. If you have an Intel GPU, they are not 3.3 compatible. Try the 2.1 version of the tutorials.\\n\" );\n",
        "\t\tgetchar();\n",
        "\t\tglfwTerminate();\n",
        "\t\treturn -1;\n",
        "\t}\n",
        "\tglfwMakeContextCurrent(window);\n",
        "\n",
        "\t// Initialize GLEW\n",
        "\tif (glewInit() != GLEW_OK) {\n",
        "\t\tfprintf(stderr, \"Failed to initialize GLEW\\n\");\n",
        "\t\tgetchar();\n",
        "\t\tglfwTerminate();\n",
        "\t\treturn -1;\n",
        "\t}\n",
        "\n",
        "\t// Ensure we can capture the escape key being pressed below\n",
        "\tglfwSetInputMode(window, GLFW_STICKY_KEYS, GL_TRUE);\n",
        "\n",
        "\t// Dark blue background\n",
        "\tglClearColor(0.0f, 0.0f, 0.4f, 0.0f);\n",
        "\n",
        "\tdo{\n",
        "\t\t// Clear the screen. It's not mentioned before Tutorial 02, but it can cause flickering, so it's there nonetheless.\n",
        "\t\tglClear( GL_COLOR_BUFFER_BIT );\n",
        "\n",
        "\t\t// Draw nothing, see you in tutorial 2 !\n",
        "\n",
        "\t\t\n",
        "\t\t// Swap buffers\n",
        "\t\tglfwSwapBuffers(window);\n",
        "\t\tglfwPollEvents();\n",
        "\n",
        "\t} // Check if the ESC key was pressed or the window was closed\n",
        "\twhile( glfwGetKey(window, GLFW_KEY_ESCAPE ) != GLFW_PRESS &&\n",
        "\t\t   glfwWindowShouldClose(window) == 0 );\n",
        "\n",
        "\t// Close OpenGL window and terminate GLFW\n",
        "\tglfwTerminate();\n",
        "\n",
        "\treturn 0;\n",
        "}\n",
        "```"
      ]
    },
    {
      "metadata": {
        "id": "8ySSubBPtKU2",
        "colab_type": "code",
        "colab": {}
      },
      "cell_type": "code",
      "source": [
        ""
      ],
      "execution_count": 0,
      "outputs": []
    }
  ]
}